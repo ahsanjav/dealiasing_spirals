{
 "cells": [
  {
   "cell_type": "code",
   "execution_count": 1,
   "metadata": {},
   "outputs": [],
   "source": [
    "import lit_python\n",
    "import h5py\n",
    "import numpy as np\n",
    "import matplotlib.pyplot as plt"
   ]
  },
  {
   "cell_type": "code",
   "execution_count": 2,
   "metadata": {},
   "outputs": [],
   "source": [
    "\n",
    "f = h5py.File('/mount/datalit/datalit/_1_retro_cines_kspace_spiral_walsh_itt_x.h5')\n",
    "image_series = list(f.keys())\n"
   ]
  },
  {
   "cell_type": "code",
   "execution_count": 9,
   "metadata": {},
   "outputs": [
    {
     "data": {
      "text/plain": [
       "'sample_148'"
      ]
     },
     "execution_count": 9,
     "metadata": {},
     "output_type": "execute_result"
    }
   ],
   "source": [
    "image_series[0]"
   ]
  },
  {
   "cell_type": "code",
   "execution_count": 7,
   "metadata": {},
   "outputs": [
    {
     "data": {
      "application/vnd.jupyter.widget-view+json": {
       "model_id": "0e2a1fd435bf4ae8852043b2ca90aa7f",
       "version_major": 2,
       "version_minor": 0
      },
      "text/plain": [
       "interactive(children=(RadioButtons(description='Slice plane selection:', options=('x-y', 'y-z', 'z-x'), style=…"
      ]
     },
     "metadata": {},
     "output_type": "display_data"
    },
    {
     "data": {
      "text/plain": [
       "<lit_python.utils.ImageSliceViewer3D.ImageSliceViewer3D at 0x73062f869070>"
      ]
     },
     "execution_count": 7,
     "metadata": {},
     "output_type": "execute_result"
    }
   ],
   "source": [
    "idx = 2\n",
    "input_image = np.array(f[image_series[idx]+f'/1.0'][\"input\"])\n",
    "out_image   = np.array(f[image_series[idx]+f'/1.0'][\"output\"])\n",
    "\n",
    "from lit_python.utils.ImageSliceViewer3D import ImageSliceViewer3D\n",
    "\n",
    "ImageSliceViewer3D(np.abs(input_image[:,:,:]),cmap='gray',cscale=(0,20000))\n",
    "\n",
    "# # print(out_image.shape)\n",
    "# plt.imshow(np.concatenate(np.abs(out_image),np.abs(csm[-1]-out_image)),axis=1),cmap='gray',vmin=0,vmax=10000)\n",
    "# plt.show()\n"
   ]
  },
  {
   "cell_type": "code",
   "execution_count": null,
   "metadata": {},
   "outputs": [],
   "source": []
  }
 ],
 "metadata": {
  "kernelspec": {
   "display_name": "lit_python",
   "language": "python",
   "name": "python3"
  },
  "language_info": {
   "codemirror_mode": {
    "name": "ipython",
    "version": 3
   },
   "file_extension": ".py",
   "mimetype": "text/x-python",
   "name": "python",
   "nbconvert_exporter": "python",
   "pygments_lexer": "ipython3",
   "version": "3.9.19"
  }
 },
 "nbformat": 4,
 "nbformat_minor": 2
}
