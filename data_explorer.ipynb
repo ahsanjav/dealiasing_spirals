{
 "cells": [
  {
   "cell_type": "code",
   "execution_count": 2,
   "metadata": {},
   "outputs": [],
   "source": [
    "import lit_python\n",
    "import h5py\n",
    "import numpy as np\n",
    "import matplotlib.pyplot as plt"
   ]
  },
  {
   "cell_type": "code",
   "execution_count": 33,
   "metadata": {},
   "outputs": [],
   "source": [
    "\n",
    "f = h5py.File('/data_drive/_0_retro_cines_kspace_spiral.h5')\n",
    "image_series = list(f.keys())\n"
   ]
  },
  {
   "cell_type": "code",
   "execution_count": null,
   "metadata": {},
   "outputs": [
    {
     "data": {
      "application/vnd.jupyter.widget-view+json": {
       "model_id": "edf9e1abd2984468b13803b2138f8ba2",
       "version_major": 2,
       "version_minor": 0
      },
      "text/plain": [
       "interactive(children=(RadioButtons(description='Slice plane selection:', options=('x-y', 'y-z', 'z-x'), style=…"
      ]
     },
     "metadata": {},
     "output_type": "display_data"
    },
    {
     "data": {
      "text/plain": [
       "<lit_python.utils.ImageSliceViewer3D.ImageSliceViewer3D at 0x7f9c7d4a7430>"
      ]
     },
     "execution_count": 34,
     "metadata": {},
     "output_type": "execute_result"
    }
   ],
   "source": [
    "idx = 30\n",
    "input_image = np.array(f[image_series[idx]+f'/1.0'][\"input\"])\n",
    "out_image   = np.array(f[image_series[idx]+f'/1.0'][\"output\"])\n",
    "\n",
    "from lit_python.utils.ImageSliceViewer3D import ImageSliceViewer3D\n",
    "\n",
    "ImageSliceViewer3D(np.abs(input_image[:,:,:,4]),cmap='gray',cscale=(0,20000))\n",
    "\n",
    "# # print(out_image.shape)\n",
    "# plt.imshow(np.concatenate(np.abs(out_image),np.abs(csm[-1]-out_image)),axis=1),cmap='gray',vmin=0,vmax=10000)\n",
    "# plt.show()\n"
   ]
  },
  {
   "cell_type": "code",
   "execution_count": null,
   "metadata": {},
   "outputs": [],
   "source": []
  }
 ],
 "metadata": {
  "kernelspec": {
   "display_name": "lit_python",
   "language": "python",
   "name": "python3"
  },
  "language_info": {
   "codemirror_mode": {
    "name": "ipython",
    "version": 3
   },
   "file_extension": ".py",
   "mimetype": "text/x-python",
   "name": "python",
   "nbconvert_exporter": "python",
   "pygments_lexer": "ipython3",
   "version": "3.9.19"
  }
 },
 "nbformat": 4,
 "nbformat_minor": 2
}
